{
 "cells": [
  {
   "cell_type": "code",
   "execution_count": 1,
   "metadata": {},
   "outputs": [
    {
     "name": "stderr",
     "output_type": "stream",
     "text": [
      "USER_AGENT environment variable not set, consider setting it to identify your requests.\n"
     ]
    }
   ],
   "source": [
    "import os\n",
    "import sys\n",
    "\n",
    "sys.path.append('../../../app')\n",
    "\n",
    "from langchain_google_vertexai import ChatVertexAI, VertexAIEmbeddings\n",
    "from common.utils import load_yaml\n",
    "\n",
    "import bs4\n",
    "from langchain import hub\n",
    "from langchain_community.document_loaders import WebBaseLoader\n",
    "from langchain_core.output_parsers import StrOutputParser\n",
    "from langchain_core.runnables import RunnablePassthrough\n",
    "from langchain_text_splitters import RecursiveCharacterTextSplitter\n",
    "\n",
    "from langchain_qdrant import QdrantVectorStore\n",
    "from qdrant_client import QdrantClient\n",
    "from qdrant_client.http.models import Distance, VectorParams\n",
    "from langchain.prompts import PromptTemplate"
   ]
  },
  {
   "cell_type": "code",
   "execution_count": 2,
   "metadata": {},
   "outputs": [],
   "source": [
    "# Set your GOOGLE_APPLICATION_CREDENTIALS environment variable\n",
    "os.environ[\"GOOGLE_APPLICATION_CREDENTIALS\"] = (\n",
    "    \"../../../env/ai-sandbox-company-73-2659f4150720.json\"\n",
    ")\n",
    "\n",
    "# Load prompt templates\n",
    "prompts_file_path = r\"../src/prompts.yaml\"\n",
    "prompts = load_yaml(prompts_file_path)\n",
    "\n",
    "# Load the config file\n",
    "config_file_path = r\"../config.yaml\"\n",
    "config = load_yaml(config_file_path)\n",
    "\n",
    "project = config[\"project_id\"]\n",
    "location = config[\"location\"]\n",
    "llm_model = config[\"llm_model\"]\n",
    "embeddings_model = config[\"embeddings_model\"]\n",
    "\n",
    "# Initialize the Vertex AI model and embeddings\n",
    "llm = ChatVertexAI(model=llm_model)\n",
    "embeddings = VertexAIEmbeddings(model_name=embeddings_model)"
   ]
  },
  {
   "cell_type": "code",
   "execution_count": 3,
   "metadata": {},
   "outputs": [],
   "source": [
    "# Load, chunk and index the document\n",
    "loader = WebBaseLoader(\n",
    "    web_paths=(\"https://lilianweng.github.io/posts/2023-06-23-agent/\",),\n",
    "    bs_kwargs=dict(\n",
    "        parse_only=bs4.SoupStrainer(\n",
    "            class_=(\"post-content\", \"post-title\", \"post-header\")\n",
    "        )\n",
    "    ),\n",
    ")\n",
    "\n",
    "docs = loader.load()\n",
    "\n",
    "text_splitter = RecursiveCharacterTextSplitter(chunk_size=768, chunk_overlap=200)\n",
    "splits = text_splitter.split_documents(docs)\n",
    "\n",
    "collection_name = \"demo_collection\"\n",
    "\n",
    "client = QdrantClient(\":memory:\")\n",
    "# client = QdrantClient(path=\"/tmp/langchain_qdrant\")\n",
    "\n",
    "# Define a collection to store your vectors.\n",
    "# Ensure the size parameter matches the dimensionality of your embeddings (e.g., 768 for Vertex AI embeddings):\n",
    "client.create_collection(\n",
    "    collection_name=collection_name,\n",
    "    vectors_config=VectorParams(size=768, distance=Distance.COSINE),\n",
    ")\n",
    "\n",
    "vector_store = QdrantVectorStore(\n",
    "    client=client,\n",
    "    collection_name=collection_name,\n",
    "    embedding=embeddings,\n",
    ")\n",
    "vector_store.add_documents(documents=splits)\n",
    "\n",
    "retriever = vector_store.as_retriever()\n",
    "\n",
    "# Create a PromptTemplate\n",
    "context_prompt = PromptTemplate(\n",
    "    template=prompts['context_prompt']['template'],\n",
    "    input_variables=prompts['context_prompt']['variables']\n",
    ")\n",
    "\n",
    "def format_docs(docs):\n",
    "    return \"\\n\\n\".join(doc.page_content for doc in docs)"
   ]
  },
  {
   "cell_type": "code",
   "execution_count": 6,
   "metadata": {},
   "outputs": [
    {
     "data": {
      "text/plain": [
       "'Task Decomposition is the process of breaking down a complex task into smaller, more manageable subtasks.  This can be achieved through various methods:\\n\\n* **Chain of Thought (CoT):**  Prompting the LLM to \"think step by step\".\\n* **Tree of Thoughts:**  Exploring multiple reasoning possibilities at each step, creating a tree-like structure of subtasks.\\n* **LLM Prompts:** Using prompts like \"Steps for XYZ.\\\\n1.\" or \"What are the subgoals for achieving XYZ?\".\\n* **Task-Specific Instructions:**  Providing instructions tailored to the task; e.g., \"Write a story outline\" for writing a novel.\\n* **Human Input:** Directly receiving subtasks from a human.\\n'"
      ]
     },
     "execution_count": 6,
     "metadata": {},
     "output_type": "execute_result"
    }
   ],
   "source": [
    "rag_chain = (\n",
    "    {\"context_str\": retriever | format_docs, \"query_str\": RunnablePassthrough()}\n",
    "    | context_prompt\n",
    "    | llm\n",
    "    | StrOutputParser()\n",
    ")\n",
    "\n",
    "rag_chain.invoke(\"What is Task Decomposition?\")"
   ]
  },
  {
   "cell_type": "code",
   "execution_count": 9,
   "metadata": {},
   "outputs": [
    {
     "data": {
      "text/plain": [
       "<langchain_qdrant.qdrant.QdrantVectorStore at 0x131dc7650>"
      ]
     },
     "execution_count": 9,
     "metadata": {},
     "output_type": "execute_result"
    }
   ],
   "source": [
    "vector_store"
   ]
  }
 ],
 "metadata": {
  "kernelspec": {
   "display_name": "env",
   "language": "python",
   "name": "python3"
  },
  "language_info": {
   "codemirror_mode": {
    "name": "ipython",
    "version": 3
   },
   "file_extension": ".py",
   "mimetype": "text/x-python",
   "name": "python",
   "nbconvert_exporter": "python",
   "pygments_lexer": "ipython3",
   "version": "3.11.3"
  }
 },
 "nbformat": 4,
 "nbformat_minor": 2
}
